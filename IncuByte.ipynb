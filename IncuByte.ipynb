{
 "cells": [
  {
   "cell_type": "code",
   "execution_count": 0,
   "metadata": {
    "application/vnd.databricks.v1+cell": {
     "cellMetadata": {
      "byteLimit": 2048000,
      "rowLimit": 10000
     },
     "inputWidgets": {},
     "nuid": "94d959f7-03be-4993-bba0-87bd365ce62c",
     "showTitle": false,
     "title": ""
    }
   },
   "outputs": [
    {
     "output_type": "display_data",
     "data": {
      "text/html": [
       "<style scoped>\n",
       "  .table-result-container {\n",
       "    max-height: 300px;\n",
       "    overflow: auto;\n",
       "  }\n",
       "  table, th, td {\n",
       "    border: 1px solid black;\n",
       "    border-collapse: collapse;\n",
       "  }\n",
       "  th, td {\n",
       "    padding: 5px;\n",
       "  }\n",
       "  th {\n",
       "    text-align: left;\n",
       "  }\n",
       "</style><div class='table-result-container'><table class='table-result'><thead style='background-color: white'><tr><th>None</th><th>Type</th><th>Customer_Name</th><th>Customer_Id</th><th>Open_Date</th><th>Last_Consulted_Date</th><th>Vaccination_Id</th><th>Dr_Name</th><th>State</th><th>Country</th><th>DOB</th><th>Is_Active</th></tr></thead><tbody><tr><td>null</td><td>D</td><td>Alex</td><td>123457</td><td>20101012</td><td>20121013</td><td>MVD</td><td>Paul</td><td>SA</td><td>USA</td><td>06031987</td><td>A</td></tr><tr><td>null</td><td>D</td><td>John</td><td>123458</td><td>20101012</td><td>20121013</td><td>MVD</td><td>Paul</td><td>TN</td><td>IND</td><td>06031987</td><td>A</td></tr><tr><td>null</td><td>D</td><td>Mathew</td><td>123459</td><td>20101012</td><td>20121013</td><td>MVD</td><td>Paul</td><td>WAS</td><td>PHIL</td><td>06031987</td><td>A</td></tr><tr><td>null</td><td>D</td><td>Matt</td><td>12345</td><td>20101012</td><td>20121013</td><td>MVD</td><td>Paul</td><td>BOS</td><td>NYC</td><td>06031987</td><td>A</td></tr><tr><td>null</td><td>D</td><td>Jacob</td><td>1256</td><td>20101012</td><td>20121013</td><td>MVD</td><td>Paul</td><td>VIC</td><td>AU</td><td>06031987</td><td>A</td></tr><tr><td>null</td><td>D</td><td>Smith</td><td>123458</td><td>20101012</td><td>20121013</td><td>MVD</td><td>Paul</td><td>SA</td><td>USA</td><td>06031987</td><td>A</td></tr><tr><td>null</td><td>D</td><td>jack</td><td>123459</td><td>20111013</td><td>20121013</td><td>MVD</td><td>Paul</td><td>TN</td><td>IND</td><td>06031997</td><td>A</td></tr><tr><td>null</td><td>D</td><td>Hardin</td><td>123460</td><td>20131018</td><td>20241003</td><td>MVD</td><td>Paul</td><td>WAS</td><td>PHIL</td><td>06031999</td><td>A</td></tr><tr><td>null</td><td>D</td><td>Tessa</td><td>12346</td><td>20161025</td><td>20121013</td><td>MVD</td><td>Paul</td><td>BOS</td><td>NYC</td><td>06031990</td><td>A</td></tr><tr><td>null</td><td>D</td><td>Zaya</td><td>1257</td><td>20171030</td><td>20121013</td><td>MVD</td><td>Paul</td><td>VIC</td><td>AU</td><td>06031994</td><td>A</td></tr><tr><td>null</td><td>D</td><td>Jacob</td><td>1256</td><td>20101012</td><td>20211013</td><td>MVD</td><td>Paul</td><td>SYD</td><td>AUS</td><td>06031987</td><td>A</td></tr><tr><td>null</td><td>D</td><td>Tessa</td><td>12346</td><td>20161025</td><td>20241010</td><td>MVD</td><td>Paul</td><td>BOS</td><td>IND</td><td>06031990</td><td>A</td></tr></tbody></table></div>"
      ]
     },
     "metadata": {
      "application/vnd.databricks.v1+output": {
       "addedWidgets": {},
       "aggData": [],
       "aggError": "",
       "aggOverflow": false,
       "aggSchema": [],
       "aggSeriesLimitReached": false,
       "aggType": "",
       "arguments": {},
       "columnCustomDisplayInfos": {},
       "data": [
        [
         null,
         "D",
         "Alex",
         123457,
         "20101012",
         "20121013",
         "MVD",
         "Paul",
         "SA",
         "USA",
         "06031987",
         "A"
        ],
        [
         null,
         "D",
         "John",
         123458,
         "20101012",
         "20121013",
         "MVD",
         "Paul",
         "TN",
         "IND",
         "06031987",
         "A"
        ],
        [
         null,
         "D",
         "Mathew",
         123459,
         "20101012",
         "20121013",
         "MVD",
         "Paul",
         "WAS",
         "PHIL",
         "06031987",
         "A"
        ],
        [
         null,
         "D",
         "Matt",
         12345,
         "20101012",
         "20121013",
         "MVD",
         "Paul",
         "BOS",
         "NYC",
         "06031987",
         "A"
        ],
        [
         null,
         "D",
         "Jacob",
         1256,
         "20101012",
         "20121013",
         "MVD",
         "Paul",
         "VIC",
         "AU",
         "06031987",
         "A"
        ],
        [
         null,
         "D",
         "Smith",
         123458,
         "20101012",
         "20121013",
         "MVD",
         "Paul",
         "SA",
         "USA",
         "06031987",
         "A"
        ],
        [
         null,
         "D",
         "jack",
         123459,
         "20111013",
         "20121013",
         "MVD",
         "Paul",
         "TN",
         "IND",
         "06031997",
         "A"
        ],
        [
         null,
         "D",
         "Hardin",
         123460,
         "20131018",
         "20241003",
         "MVD",
         "Paul",
         "WAS",
         "PHIL",
         "06031999",
         "A"
        ],
        [
         null,
         "D",
         "Tessa",
         12346,
         "20161025",
         "20121013",
         "MVD",
         "Paul",
         "BOS",
         "NYC",
         "06031990",
         "A"
        ],
        [
         null,
         "D",
         "Zaya",
         1257,
         "20171030",
         "20121013",
         "MVD",
         "Paul",
         "VIC",
         "AU",
         "06031994",
         "A"
        ],
        [
         null,
         "D",
         "Jacob",
         1256,
         "20101012",
         "20211013",
         "MVD",
         "Paul",
         "SYD",
         "AUS",
         "06031987",
         "A"
        ],
        [
         null,
         "D",
         "Tessa",
         12346,
         "20161025",
         "20241010",
         "MVD",
         "Paul",
         "BOS",
         "IND",
         "06031990",
         "A"
        ]
       ],
       "datasetInfos": [],
       "dbfsResultPath": null,
       "isJsonSchema": true,
       "metadata": {},
       "overflow": false,
       "plotOptions": {
        "customPlotOptions": {},
        "displayType": "table",
        "pivotAggregation": null,
        "pivotColumns": null,
        "xColumns": null,
        "yColumns": null
       },
       "removedWidgets": [],
       "schema": [
        {
         "metadata": "{}",
         "name": "None",
         "type": "\"string\""
        },
        {
         "metadata": "{}",
         "name": "Type",
         "type": "\"string\""
        },
        {
         "metadata": "{}",
         "name": "Customer_Name",
         "type": "\"string\""
        },
        {
         "metadata": "{}",
         "name": "Customer_Id",
         "type": "\"integer\""
        },
        {
         "metadata": "{}",
         "name": "Open_Date",
         "type": "\"string\""
        },
        {
         "metadata": "{}",
         "name": "Last_Consulted_Date",
         "type": "\"string\""
        },
        {
         "metadata": "{}",
         "name": "Vaccination_Id",
         "type": "\"string\""
        },
        {
         "metadata": "{}",
         "name": "Dr_Name",
         "type": "\"string\""
        },
        {
         "metadata": "{}",
         "name": "State",
         "type": "\"string\""
        },
        {
         "metadata": "{}",
         "name": "Country",
         "type": "\"string\""
        },
        {
         "metadata": "{}",
         "name": "DOB",
         "type": "\"string\""
        },
        {
         "metadata": "{}",
         "name": "Is_Active",
         "type": "\"string\""
        }
       ],
       "type": "table"
      }
     },
     "output_type": "display_data"
    },
    {
     "output_type": "display_data",
     "data": {
      "text/html": [
       "<style scoped>\n",
       "  .table-result-container {\n",
       "    max-height: 300px;\n",
       "    overflow: auto;\n",
       "  }\n",
       "  table, th, td {\n",
       "    border: 1px solid black;\n",
       "    border-collapse: collapse;\n",
       "  }\n",
       "  th, td {\n",
       "    padding: 5px;\n",
       "  }\n",
       "  th {\n",
       "    text-align: left;\n",
       "  }\n",
       "</style><div class='table-result-container'><table class='table-result'><thead style='background-color: white'><tr><th>Customer_Name</th><th>Customer_Id</th><th>Open_Date</th><th>Last_Consulted_Date</th><th>Vaccination_Id</th><th>Dr_Name</th><th>State</th><th>Country</th><th>DOB</th><th>Is_Active</th><th>Age</th><th>Days</th></tr></thead><tbody><tr><td>Alex</td><td>123457</td><td>20101012</td><td>20121013</td><td>MVD</td><td>Paul</td><td>SA</td><td>USA</td><td>06031987</td><td>A</td><td>37</td><td>4393</td></tr><tr><td>Hardin</td><td>123460</td><td>20131018</td><td>20241003</td><td>MVD</td><td>Paul</td><td>WAS</td><td>PHIL</td><td>06031999</td><td>A</td><td>25</td><td>Less Than 30 Days</td></tr><tr><td>Jacob</td><td>1256</td><td>20101012</td><td>20211013</td><td>MVD</td><td>Paul</td><td>SYD</td><td>AUS</td><td>06031987</td><td>A</td><td>37</td><td>1106</td></tr><tr><td>John</td><td>123458</td><td>20101012</td><td>20121013</td><td>MVD</td><td>Paul</td><td>TN</td><td>IND</td><td>06031987</td><td>A</td><td>37</td><td>4393</td></tr><tr><td>Mathew</td><td>123459</td><td>20101012</td><td>20121013</td><td>MVD</td><td>Paul</td><td>WAS</td><td>PHIL</td><td>06031987</td><td>A</td><td>37</td><td>4393</td></tr><tr><td>Matt</td><td>12345</td><td>20101012</td><td>20121013</td><td>MVD</td><td>Paul</td><td>BOS</td><td>NYC</td><td>06031987</td><td>A</td><td>37</td><td>4393</td></tr><tr><td>Smith</td><td>123458</td><td>20101012</td><td>20121013</td><td>MVD</td><td>Paul</td><td>SA</td><td>USA</td><td>06031987</td><td>A</td><td>37</td><td>4393</td></tr><tr><td>Tessa</td><td>12346</td><td>20161025</td><td>20241010</td><td>MVD</td><td>Paul</td><td>BOS</td><td>IND</td><td>06031990</td><td>A</td><td>34</td><td>Less Than 30 Days</td></tr><tr><td>Zaya</td><td>1257</td><td>20171030</td><td>20121013</td><td>MVD</td><td>Paul</td><td>VIC</td><td>AU</td><td>06031994</td><td>A</td><td>30</td><td>4393</td></tr><tr><td>jack</td><td>123459</td><td>20111013</td><td>20121013</td><td>MVD</td><td>Paul</td><td>TN</td><td>IND</td><td>06031997</td><td>A</td><td>27</td><td>4393</td></tr></tbody></table></div>"
      ]
     },
     "metadata": {
      "application/vnd.databricks.v1+output": {
       "addedWidgets": {},
       "aggData": [],
       "aggError": "",
       "aggOverflow": false,
       "aggSchema": [],
       "aggSeriesLimitReached": false,
       "aggType": "",
       "arguments": {},
       "columnCustomDisplayInfos": {},
       "data": [
        [
         "Alex",
         123457,
         "20101012",
         "20121013",
         "MVD",
         "Paul",
         "SA",
         "USA",
         "06031987",
         "A",
         37,
         "4393"
        ],
        [
         "Hardin",
         123460,
         "20131018",
         "20241003",
         "MVD",
         "Paul",
         "WAS",
         "PHIL",
         "06031999",
         "A",
         25,
         "Less Than 30 Days"
        ],
        [
         "Jacob",
         1256,
         "20101012",
         "20211013",
         "MVD",
         "Paul",
         "SYD",
         "AUS",
         "06031987",
         "A",
         37,
         "1106"
        ],
        [
         "John",
         123458,
         "20101012",
         "20121013",
         "MVD",
         "Paul",
         "TN",
         "IND",
         "06031987",
         "A",
         37,
         "4393"
        ],
        [
         "Mathew",
         123459,
         "20101012",
         "20121013",
         "MVD",
         "Paul",
         "WAS",
         "PHIL",
         "06031987",
         "A",
         37,
         "4393"
        ],
        [
         "Matt",
         12345,
         "20101012",
         "20121013",
         "MVD",
         "Paul",
         "BOS",
         "NYC",
         "06031987",
         "A",
         37,
         "4393"
        ],
        [
         "Smith",
         123458,
         "20101012",
         "20121013",
         "MVD",
         "Paul",
         "SA",
         "USA",
         "06031987",
         "A",
         37,
         "4393"
        ],
        [
         "Tessa",
         12346,
         "20161025",
         "20241010",
         "MVD",
         "Paul",
         "BOS",
         "IND",
         "06031990",
         "A",
         34,
         "Less Than 30 Days"
        ],
        [
         "Zaya",
         1257,
         "20171030",
         "20121013",
         "MVD",
         "Paul",
         "VIC",
         "AU",
         "06031994",
         "A",
         30,
         "4393"
        ],
        [
         "jack",
         123459,
         "20111013",
         "20121013",
         "MVD",
         "Paul",
         "TN",
         "IND",
         "06031997",
         "A",
         27,
         "4393"
        ]
       ],
       "datasetInfos": [],
       "dbfsResultPath": null,
       "isJsonSchema": true,
       "metadata": {},
       "overflow": false,
       "plotOptions": {
        "customPlotOptions": {},
        "displayType": "table",
        "pivotAggregation": null,
        "pivotColumns": null,
        "xColumns": null,
        "yColumns": null
       },
       "removedWidgets": [],
       "schema": [
        {
         "metadata": "{}",
         "name": "Customer_Name",
         "type": "\"string\""
        },
        {
         "metadata": "{}",
         "name": "Customer_Id",
         "type": "\"integer\""
        },
        {
         "metadata": "{}",
         "name": "Open_Date",
         "type": "\"string\""
        },
        {
         "metadata": "{}",
         "name": "Last_Consulted_Date",
         "type": "\"string\""
        },
        {
         "metadata": "{}",
         "name": "Vaccination_Id",
         "type": "\"string\""
        },
        {
         "metadata": "{}",
         "name": "Dr_Name",
         "type": "\"string\""
        },
        {
         "metadata": "{}",
         "name": "State",
         "type": "\"string\""
        },
        {
         "metadata": "{}",
         "name": "Country",
         "type": "\"string\""
        },
        {
         "metadata": "{}",
         "name": "DOB",
         "type": "\"string\""
        },
        {
         "metadata": "{}",
         "name": "Is_Active",
         "type": "\"string\""
        },
        {
         "metadata": "{}",
         "name": "Age",
         "type": "\"integer\""
        },
        {
         "metadata": "{}",
         "name": "Days",
         "type": "\"string\""
        }
       ],
       "type": "table"
      }
     },
     "output_type": "display_data"
    }
   ],
   "source": [
    "# Importing all the necessary funtions for the scripts\n",
    "from pyspark.sql.functions import current_date, datediff , year, count, to_date,when,col,row_number,desc\n",
    "from pyspark.sql.types import *\n",
    "from pyspark.sql.window import Window\n",
    "\n",
    "#Defining a window specification \n",
    "windowSpec = Window.partitionBy(\"Customer_Name\").orderBy( desc('Last_Consulted_Date'))\n",
    "\n",
    "# Declaring schema \n",
    "Schema = StructType([StructField(\"None\", StringType() ,True)\n",
    ",StructField(\"Type\", StringType() ,True)\n",
    ",StructField(\"Customer_Name\", StringType() ,True)\n",
    ",StructField(\"Customer_Id\", IntegerType() ,True)\n",
    ",StructField(\"Open_Date\", StringType() ,True)\n",
    ",StructField(\"Last_Consulted_Date\", StringType() ,True)\n",
    ",StructField(\"Vaccination_Id\", StringType() ,True)\n",
    ",StructField(\"Dr_Name\", StringType() ,True)\n",
    ",StructField(\"State\", StringType() ,True)\n",
    ",StructField(\"Country\", StringType() ,True)\n",
    ",StructField(\"DOB\", StringType() ,True)\n",
    ",StructField(\"Is_Active\", StringType() ,True)\n",
    "])\n",
    "\n",
    "# Reading the .csv file and creating the DataFrame\n",
    "df=spark.read.csv(\"/FileStore/tables/Vaccination_Details-5.csv\", header=True, sep=\"|\", schema=Schema)\n",
    "display(df)\n",
    "\n",
    "# Deleting first two nnwanted coulumns\n",
    "df=df.drop(*[df.columns[0], df.columns[1]])\n",
    "\n",
    "#Adding Age and Days coulumn along with conditions \n",
    "df=df.withColumn(\"Age\", year(current_date())-year(to_date(col(\"DOB\"),\"ddMMyyyy\")))\\\n",
    "     .withColumn(\"Days\", when(datediff(current_date(),to_date(\"Last_Consulted_Date\",\"yyyyMMdd\"))>30,datediff(current_date(),to_date(\"Last_Consulted_Date\",\"yyyyMMdd\"))).otherwise(\"Less Than 30 Days\"))\\\n",
    "     .withColumn(\"row_number\",row_number().over(windowSpec)).filter(col(\"row_number\")==1)\\\n",
    "     .drop(\"row_number\")\n",
    "display(df)\n",
    "\n",
    "#Creating tables for each country and inserting the records \n",
    "grouped_df = df.select(\"Country\").distinct().collect()\n",
    "for country in grouped_df:\n",
    "    table_name = f\"TABLE_{country[0]}\"\n",
    "    if spark.catalog.tableExists(table_name):\n",
    "       df1=df.filter(col(\"Country\") == country[0] )\n",
    "       df1.write.mode(\"append\").option(\"mergeSchema\", True).saveAsTable(table_name) \n",
    "    else :\n",
    "       df1=df.filter(col(\"Country\") == country[0] )\n",
    "       df1.write.mode(\"overwrite\").option(\"mergeSchema\", True).saveAsTable(table_name)\n",
    "    \n",
    "    \n",
    "\n",
    "\n",
    "\n",
    "\n",
    "\n"
   ]
  }
 ],
 "metadata": {
  "application/vnd.databricks.v1+notebook": {
   "dashboards": [],
   "environmentMetadata": null,
   "language": "python",
   "notebookMetadata": {
    "mostRecentlyExecutedCommandWithImplicitDF": {
     "commandId": 1110108762917987,
     "dataframes": [
      "_sqldf"
     ]
    },
    "pythonIndentUnit": 4
   },
   "notebookName": "IncuByte",
   "widgets": {}
  }
 },
 "nbformat": 4,
 "nbformat_minor": 0
}
